{
  "nbformat": 4,
  "nbformat_minor": 0,
  "metadata": {
    "colab": {
      "provenance": [],
      "collapsed_sections": [
        "2eHVKWtyXua5",
        "9XozL7ejPExJ",
        "ephferirPJjA",
        "jdne6YSePP-T",
        "3lZmiFA3REZe",
        "3AZqvR90Q4wQ"
      ]
    },
    "kernelspec": {
      "name": "python3",
      "display_name": "Python 3"
    },
    "language_info": {
      "name": "python"
    }
  },
  "cells": [
    {
      "cell_type": "markdown",
      "source": [
        "# Demo Procesamiento Lenguaje Natural (PLN) - RNA: LSTM"
      ],
      "metadata": {
        "id": "1f5XfiIZXDVp"
      }
    },
    {
      "cell_type": "markdown",
      "source": [
        "**CONTEXTO a tratar:**\n",
        "\n",
        "Se tiene un *dataset* con comentarios realizados en determinadas aplicaciones de la tienda de *Android*. A cada comentario se le asocia una cantidad de estrellas, comprendidas entre 1 y 5, siendo 1 la peor calificación y 5 la máxima.\n",
        "\n",
        "Se busca conformar una RNA que permita determinar, en cierto modo, los sentimientos expresados en el comentario. Para ello, se establece una escala en base a la calificación, en donde se tienen las siguientes correspondencias:\n",
        "\n",
        "\n",
        "\n",
        "*   Negativo: 1 y 2 estrellas\n",
        "*   Neutral: 3 estrellas\n",
        "*   Positivo: 4 y 5 estrellas\n",
        "\n",
        "\n",
        "**Detalles:**\n",
        "\n",
        "Trabajamos ahora con datos reales, se aplicó un breve procesamiento para conformar el archivo *csv* a utilizar.\n",
        "\n",
        "Al igual que las demos anteriores... se usa un contexto amigable, basado en lo que podemos encontrar en la vida diaria.\n",
        "En este caso, introducimos las LSTM (*Long short-term memory*).\n",
        "\n",
        "Todo lo visto, puede aplicarse de lleno a problemas con series temporales.\n",
        "\n",
        "**¿Ejemplos de series temporales en la vida diaria?**"
      ],
      "metadata": {
        "id": "yuMBqgl0aniW"
      }
    },
    {
      "cell_type": "markdown",
      "source": [
        "## Preprocesamiento"
      ],
      "metadata": {
        "id": "2eHVKWtyXua5"
      }
    },
    {
      "cell_type": "markdown",
      "source": [
        "### Importaciones"
      ],
      "metadata": {
        "id": "9XozL7ejPExJ"
      }
    },
    {
      "cell_type": "code",
      "source": [
        "import numpy as np\n",
        "import pandas as pd\n",
        "import tensorflow as tf\n",
        "import seaborn as sns\n",
        "import re\n",
        "import matplotlib.pyplot as plt\n",
        "\n",
        "\n",
        "from tensorflow.keras.callbacks import ModelCheckpoint\n",
        "from sklearn import preprocessing\n",
        "from sklearn.model_selection import train_test_split\n",
        "from sklearn.metrics import accuracy_score, classification_report, confusion_matrix\n",
        "\n",
        "from tensorflow.keras.models import Sequential\n",
        "from tensorflow.keras.layers import Embedding, Dense, LSTM, Dropout, Bidirectional"
      ],
      "metadata": {
        "id": "0qERdDhMJ2Nx"
      },
      "execution_count": null,
      "outputs": []
    },
    {
      "cell_type": "code",
      "source": [
        "# Archivos pueden arrastrarse al área de trabajo o procesarse en local\n",
        "\n",
        "!wget -c --no-check-certificate \"https://drive.google.com/uc?export=download&id=1SFS2we5DsBaNY0wRxzjKAmg-QlsVj9Zh&confirm=t\" -O reviews_limpias.zip\n",
        "!unzip -qq reviews_limpias.zip"
      ],
      "metadata": {
        "colab": {
          "base_uri": "https://localhost:8080/"
        },
        "id": "n5mHW4hUeEUh",
        "outputId": "f561518d-1265-499b-9d25-8995c6d69e64"
      },
      "execution_count": null,
      "outputs": [
        {
          "output_type": "stream",
          "name": "stdout",
          "text": [
            "--2023-09-29 22:52:41--  https://drive.google.com/uc?export=download&id=1SFS2we5DsBaNY0wRxzjKAmg-QlsVj9Zh&confirm=t\n",
            "Resolving drive.google.com (drive.google.com)... 173.194.174.113, 173.194.174.102, 173.194.174.101, ...\n",
            "Connecting to drive.google.com (drive.google.com)|173.194.174.113|:443... connected.\n",
            "HTTP request sent, awaiting response... 303 See Other\n",
            "Location: https://doc-0k-9c-docs.googleusercontent.com/docs/securesc/ha0ro937gcuc7l7deffksulhg5h7mbp1/j20508eujopshcv056h0g4n7s7mjciqs/1696027950000/12225850433951268217/*/1SFS2we5DsBaNY0wRxzjKAmg-QlsVj9Zh?e=download&uuid=7ba697bd-ae7b-42d4-90bf-60fe44408d25 [following]\n",
            "Warning: wildcards not supported in HTTP.\n",
            "--2023-09-29 22:52:42--  https://doc-0k-9c-docs.googleusercontent.com/docs/securesc/ha0ro937gcuc7l7deffksulhg5h7mbp1/j20508eujopshcv056h0g4n7s7mjciqs/1696027950000/12225850433951268217/*/1SFS2we5DsBaNY0wRxzjKAmg-QlsVj9Zh?e=download&uuid=7ba697bd-ae7b-42d4-90bf-60fe44408d25\n",
            "Resolving doc-0k-9c-docs.googleusercontent.com (doc-0k-9c-docs.googleusercontent.com)... 64.233.187.132, 2404:6800:4008:c05::84\n",
            "Connecting to doc-0k-9c-docs.googleusercontent.com (doc-0k-9c-docs.googleusercontent.com)|64.233.187.132|:443... connected.\n",
            "HTTP request sent, awaiting response... 200 OK\n",
            "Length: 202841 (198K) [application/zip]\n",
            "Saving to: ‘reviews_limpias.zip’\n",
            "\n",
            "reviews_limpias.zip 100%[===================>] 198.09K  --.-KB/s    in 0.002s  \n",
            "\n",
            "2023-09-29 22:52:42 (115 MB/s) - ‘reviews_limpias.zip’ saved [202841/202841]\n",
            "\n"
          ]
        }
      ]
    },
    {
      "cell_type": "markdown",
      "source": [
        "### Limpieza de los datos"
      ],
      "metadata": {
        "id": "ephferirPJjA"
      }
    },
    {
      "cell_type": "markdown",
      "source": [
        "Toda esta parte pueden ignorarla, me pareció interesante agregar algo de procesamiento como para que tengan una idea de que hay un trabajo previo antes de pasar a las RNA (en mayor medida a la hora de utilizar información real)."
      ],
      "metadata": {
        "id": "deK8eThOh2eN"
      }
    },
    {
      "cell_type": "code",
      "source": [
        "# Fuente\n",
        "\"\"\"\n",
        "from nltk.corpus import stopwords\n",
        "nltk.download('stopwords')\n",
        "stopwords.words('spanish')\n",
        "\"\"\"\n",
        "\n",
        "# Palabras que podrían quitarse porque aportan poco\n",
        "es_stopwords = ['de', 'la', 'que', 'el', 'en', 'y', 'a', 'los', 'del', 'se', 'las', 'por', 'un', 'para', 'con', 'una', 'su', 'al', 'lo', 'como', 'más', 'pero', 'sus', 'le', 'ya', 'o', 'este', 'sí', 'porque', 'esta', 'entre', 'cuando', 'muy', 'sin', 'sobre', 'también', 'me', 'hasta', 'hay', 'donde', 'quien', 'desde', 'todo', 'nos', 'durante', 'todos', 'uno', 'les', 'ni', 'contra', 'otros', 'ese', 'eso', 'ante', 'ellos', 'e', 'esto', 'mí', 'antes', 'algunos', 'qué', 'unos', 'yo', 'otro', 'otras', 'otra', 'él', 'tanto', 'esa', 'estos', 'mucho', 'quienes', 'nada', 'muchos', 'cual', 'poco', 'ella', 'estar', 'estas', 'algunas', 'algo', 'nosotros', 'mi', 'mis', 'tú', 'te', 'ti', 'tu', 'tus', 'ellas', 'nosotras', 'vosotros', 'vosotras', 'os', 'mío', 'mía', 'míos', 'mías', 'tuyo', 'tuya', 'tuyos', 'tuyas', 'suyo', 'suya', 'suyos', 'suyas', 'nuestro', 'nuestra', 'nuestros', 'nuestras', 'vuestro', 'vuestra', 'vuestros', 'vuestras', 'esos', 'esas', 'estoy', 'estás', 'está', 'estamos', 'estáis', 'están', 'esté', 'estés', 'estemos', 'estéis', 'estén', 'estaré', 'estarás', 'estará', 'estaremos', 'estaréis', 'estarán', 'estaría', 'estarías', 'estaríamos', 'estaríais', 'estarían', 'estaba', 'estabas', 'estábamos', 'estabais', 'estaban', 'estuve', 'estuviste', 'estuvo', 'estuvimos', 'estuvisteis', 'estuvieron', 'estuviera', 'estuvieras', 'estuviéramos', 'estuvierais', 'estuvieran', 'estuviese', 'estuvieses', 'estuviésemos', 'estuvieseis', 'estuviesen', 'estando', 'estado', 'estada', 'estados', 'estadas', 'estad', 'he', 'has', 'ha', 'hemos', 'habéis', 'han', 'haya', 'hayas', 'hayamos', 'hayáis', 'hayan', 'habré', 'habrás', 'habrá', 'habremos', 'habréis', 'habrán', 'habría', 'habrías', 'habríamos', 'habríais', 'habrían', 'había', 'habías', 'habíamos', 'habíais', 'habían', 'hube', 'hubiste', 'hubo', 'hubimos', 'hubisteis', 'hubieron', 'hubiera', 'hubieras', 'hubiéramos', 'hubierais', 'hubieran', 'hubiese', 'hubieses', 'hubiésemos', 'hubieseis', 'hubiesen', 'habiendo', 'habido', 'habida', 'habidos', 'habidas', 'soy', 'eres', 'es', 'somos', 'sois', 'son', 'sea', 'seas', 'seamos', 'seáis', 'sean', 'seré', 'serás', 'será', 'seremos', 'seréis', 'serán', 'sería', 'serías', 'seríamos', 'seríais', 'serían', 'era', 'eras', 'éramos', 'erais', 'eran', 'fui', 'fuiste', 'fue', 'fuimos', 'fuisteis', 'fueron', 'fuera', 'fueras', 'fuéramos', 'fuerais', 'fueran', 'fuese', 'fueses', 'fuésemos', 'fueseis', 'fuesen', 'sintiendo', 'sentido', 'sentida', 'sentidos', 'sentidas', 'siente', 'sentid', 'tengo', 'tienes', 'tiene', 'tenemos', 'tenéis', 'tienen', 'tenga', 'tengas', 'tengamos', 'tengáis', 'tengan', 'tendré', 'tendrás', 'tendrá', 'tendremos', 'tendréis', 'tendrán', 'tendría', 'tendrías', 'tendríamos', 'tendríais', 'tendrían', 'tenía', 'tenías', 'teníamos', 'teníais', 'tenían', 'tuve', 'tuviste', 'tuvo', 'tuvimos', 'tuvisteis', 'tuvieron', 'tuviera', 'tuvieras', 'tuviéramos', 'tuvierais', 'tuvieran', 'tuviese', 'tuvieses', 'tuviésemos', 'tuvieseis', 'tuviesen', 'teniendo', 'tenido', 'tenida', 'tenidos', 'tenidas', 'tened']"
      ],
      "metadata": {
        "id": "GMY6YrfqYJyt"
      },
      "execution_count": null,
      "outputs": []
    },
    {
      "cell_type": "code",
      "execution_count": null,
      "metadata": {
        "id": "yAwO60srW9x8"
      },
      "outputs": [],
      "source": [
        "dataset = pd.read_csv('reviews_limpias.csv')"
      ]
    },
    {
      "cell_type": "code",
      "source": [
        "# Se agrega una nueva columna sin stopwords\n",
        "dataset = dataset[dataset['clean_reviews'].notna()]\n",
        "dataset['clean_reviews2']=None\n",
        "import re\n",
        "\n",
        "corpus = []\n",
        "for i in range(len(dataset['clean_reviews'])):\n",
        "    try:\n",
        "        # Me quedo solo con letras, numeros y espacios\n",
        "        review = ''.join(char for char in dataset['clean_reviews'][i] if (char.isalnum() or char.isspace()))\n",
        "        review = review.split()\n",
        "        review = [word for word in review if not word in es_stopwords]\n",
        "        review = ' '.join(review)\n",
        "        dataset['clean_reviews2'][i] = review\n",
        "    except:\n",
        "        dataset['clean_reviews2'][i] = None\n",
        "dataset = dataset.dropna()"
      ],
      "metadata": {
        "id": "uO6siQOoZ6DO",
        "colab": {
          "base_uri": "https://localhost:8080/"
        },
        "outputId": "f8f268c1-4355-4c43-8556-e97e94f14219"
      },
      "execution_count": null,
      "outputs": [
        {
          "output_type": "stream",
          "name": "stderr",
          "text": [
            "<ipython-input-5-4dfb73b3a9d5>:3: SettingWithCopyWarning: \n",
            "A value is trying to be set on a copy of a slice from a DataFrame.\n",
            "Try using .loc[row_indexer,col_indexer] = value instead\n",
            "\n",
            "See the caveats in the documentation: https://pandas.pydata.org/pandas-docs/stable/user_guide/indexing.html#returning-a-view-versus-a-copy\n",
            "  dataset['clean_reviews2']=None\n",
            "<ipython-input-5-4dfb73b3a9d5>:14: SettingWithCopyWarning: \n",
            "A value is trying to be set on a copy of a slice from a DataFrame\n",
            "\n",
            "See the caveats in the documentation: https://pandas.pydata.org/pandas-docs/stable/user_guide/indexing.html#returning-a-view-versus-a-copy\n",
            "  dataset['clean_reviews2'][i] = review\n",
            "<ipython-input-5-4dfb73b3a9d5>:16: SettingWithCopyWarning: \n",
            "A value is trying to be set on a copy of a slice from a DataFrame\n",
            "\n",
            "See the caveats in the documentation: https://pandas.pydata.org/pandas-docs/stable/user_guide/indexing.html#returning-a-view-versus-a-copy\n",
            "  dataset['clean_reviews2'][i] = None\n",
            "<ipython-input-5-4dfb73b3a9d5>:14: SettingWithCopyWarning: \n",
            "A value is trying to be set on a copy of a slice from a DataFrame\n",
            "\n",
            "See the caveats in the documentation: https://pandas.pydata.org/pandas-docs/stable/user_guide/indexing.html#returning-a-view-versus-a-copy\n",
            "  dataset['clean_reviews2'][i] = review\n",
            "<ipython-input-5-4dfb73b3a9d5>:16: SettingWithCopyWarning: \n",
            "A value is trying to be set on a copy of a slice from a DataFrame\n",
            "\n",
            "See the caveats in the documentation: https://pandas.pydata.org/pandas-docs/stable/user_guide/indexing.html#returning-a-view-versus-a-copy\n",
            "  dataset['clean_reviews2'][i] = None\n",
            "<ipython-input-5-4dfb73b3a9d5>:14: SettingWithCopyWarning: \n",
            "A value is trying to be set on a copy of a slice from a DataFrame\n",
            "\n",
            "See the caveats in the documentation: https://pandas.pydata.org/pandas-docs/stable/user_guide/indexing.html#returning-a-view-versus-a-copy\n",
            "  dataset['clean_reviews2'][i] = review\n",
            "<ipython-input-5-4dfb73b3a9d5>:16: SettingWithCopyWarning: \n",
            "A value is trying to be set on a copy of a slice from a DataFrame\n",
            "\n",
            "See the caveats in the documentation: https://pandas.pydata.org/pandas-docs/stable/user_guide/indexing.html#returning-a-view-versus-a-copy\n",
            "  dataset['clean_reviews2'][i] = None\n",
            "<ipython-input-5-4dfb73b3a9d5>:14: SettingWithCopyWarning: \n",
            "A value is trying to be set on a copy of a slice from a DataFrame\n",
            "\n",
            "See the caveats in the documentation: https://pandas.pydata.org/pandas-docs/stable/user_guide/indexing.html#returning-a-view-versus-a-copy\n",
            "  dataset['clean_reviews2'][i] = review\n",
            "<ipython-input-5-4dfb73b3a9d5>:16: SettingWithCopyWarning: \n",
            "A value is trying to be set on a copy of a slice from a DataFrame\n",
            "\n",
            "See the caveats in the documentation: https://pandas.pydata.org/pandas-docs/stable/user_guide/indexing.html#returning-a-view-versus-a-copy\n",
            "  dataset['clean_reviews2'][i] = None\n",
            "<ipython-input-5-4dfb73b3a9d5>:14: SettingWithCopyWarning: \n",
            "A value is trying to be set on a copy of a slice from a DataFrame\n",
            "\n",
            "See the caveats in the documentation: https://pandas.pydata.org/pandas-docs/stable/user_guide/indexing.html#returning-a-view-versus-a-copy\n",
            "  dataset['clean_reviews2'][i] = review\n",
            "<ipython-input-5-4dfb73b3a9d5>:16: SettingWithCopyWarning: \n",
            "A value is trying to be set on a copy of a slice from a DataFrame\n",
            "\n",
            "See the caveats in the documentation: https://pandas.pydata.org/pandas-docs/stable/user_guide/indexing.html#returning-a-view-versus-a-copy\n",
            "  dataset['clean_reviews2'][i] = None\n",
            "<ipython-input-5-4dfb73b3a9d5>:14: SettingWithCopyWarning: \n",
            "A value is trying to be set on a copy of a slice from a DataFrame\n",
            "\n",
            "See the caveats in the documentation: https://pandas.pydata.org/pandas-docs/stable/user_guide/indexing.html#returning-a-view-versus-a-copy\n",
            "  dataset['clean_reviews2'][i] = review\n",
            "<ipython-input-5-4dfb73b3a9d5>:16: SettingWithCopyWarning: \n",
            "A value is trying to be set on a copy of a slice from a DataFrame\n",
            "\n",
            "See the caveats in the documentation: https://pandas.pydata.org/pandas-docs/stable/user_guide/indexing.html#returning-a-view-versus-a-copy\n",
            "  dataset['clean_reviews2'][i] = None\n",
            "<ipython-input-5-4dfb73b3a9d5>:14: SettingWithCopyWarning: \n",
            "A value is trying to be set on a copy of a slice from a DataFrame\n",
            "\n",
            "See the caveats in the documentation: https://pandas.pydata.org/pandas-docs/stable/user_guide/indexing.html#returning-a-view-versus-a-copy\n",
            "  dataset['clean_reviews2'][i] = review\n",
            "<ipython-input-5-4dfb73b3a9d5>:16: SettingWithCopyWarning: \n",
            "A value is trying to be set on a copy of a slice from a DataFrame\n",
            "\n",
            "See the caveats in the documentation: https://pandas.pydata.org/pandas-docs/stable/user_guide/indexing.html#returning-a-view-versus-a-copy\n",
            "  dataset['clean_reviews2'][i] = None\n",
            "<ipython-input-5-4dfb73b3a9d5>:14: SettingWithCopyWarning: \n",
            "A value is trying to be set on a copy of a slice from a DataFrame\n",
            "\n",
            "See the caveats in the documentation: https://pandas.pydata.org/pandas-docs/stable/user_guide/indexing.html#returning-a-view-versus-a-copy\n",
            "  dataset['clean_reviews2'][i] = review\n",
            "<ipython-input-5-4dfb73b3a9d5>:16: SettingWithCopyWarning: \n",
            "A value is trying to be set on a copy of a slice from a DataFrame\n",
            "\n",
            "See the caveats in the documentation: https://pandas.pydata.org/pandas-docs/stable/user_guide/indexing.html#returning-a-view-versus-a-copy\n",
            "  dataset['clean_reviews2'][i] = None\n",
            "<ipython-input-5-4dfb73b3a9d5>:14: SettingWithCopyWarning: \n",
            "A value is trying to be set on a copy of a slice from a DataFrame\n",
            "\n",
            "See the caveats in the documentation: https://pandas.pydata.org/pandas-docs/stable/user_guide/indexing.html#returning-a-view-versus-a-copy\n",
            "  dataset['clean_reviews2'][i] = review\n",
            "<ipython-input-5-4dfb73b3a9d5>:16: SettingWithCopyWarning: \n",
            "A value is trying to be set on a copy of a slice from a DataFrame\n",
            "\n",
            "See the caveats in the documentation: https://pandas.pydata.org/pandas-docs/stable/user_guide/indexing.html#returning-a-view-versus-a-copy\n",
            "  dataset['clean_reviews2'][i] = None\n",
            "<ipython-input-5-4dfb73b3a9d5>:14: SettingWithCopyWarning: \n",
            "A value is trying to be set on a copy of a slice from a DataFrame\n",
            "\n",
            "See the caveats in the documentation: https://pandas.pydata.org/pandas-docs/stable/user_guide/indexing.html#returning-a-view-versus-a-copy\n",
            "  dataset['clean_reviews2'][i] = review\n",
            "<ipython-input-5-4dfb73b3a9d5>:16: SettingWithCopyWarning: \n",
            "A value is trying to be set on a copy of a slice from a DataFrame\n",
            "\n",
            "See the caveats in the documentation: https://pandas.pydata.org/pandas-docs/stable/user_guide/indexing.html#returning-a-view-versus-a-copy\n",
            "  dataset['clean_reviews2'][i] = None\n",
            "<ipython-input-5-4dfb73b3a9d5>:14: SettingWithCopyWarning: \n",
            "A value is trying to be set on a copy of a slice from a DataFrame\n",
            "\n",
            "See the caveats in the documentation: https://pandas.pydata.org/pandas-docs/stable/user_guide/indexing.html#returning-a-view-versus-a-copy\n",
            "  dataset['clean_reviews2'][i] = review\n",
            "<ipython-input-5-4dfb73b3a9d5>:16: SettingWithCopyWarning: \n",
            "A value is trying to be set on a copy of a slice from a DataFrame\n",
            "\n",
            "See the caveats in the documentation: https://pandas.pydata.org/pandas-docs/stable/user_guide/indexing.html#returning-a-view-versus-a-copy\n",
            "  dataset['clean_reviews2'][i] = None\n",
            "<ipython-input-5-4dfb73b3a9d5>:14: SettingWithCopyWarning: \n",
            "A value is trying to be set on a copy of a slice from a DataFrame\n",
            "\n",
            "See the caveats in the documentation: https://pandas.pydata.org/pandas-docs/stable/user_guide/indexing.html#returning-a-view-versus-a-copy\n",
            "  dataset['clean_reviews2'][i] = review\n",
            "<ipython-input-5-4dfb73b3a9d5>:16: SettingWithCopyWarning: \n",
            "A value is trying to be set on a copy of a slice from a DataFrame\n",
            "\n",
            "See the caveats in the documentation: https://pandas.pydata.org/pandas-docs/stable/user_guide/indexing.html#returning-a-view-versus-a-copy\n",
            "  dataset['clean_reviews2'][i] = None\n",
            "<ipython-input-5-4dfb73b3a9d5>:14: SettingWithCopyWarning: \n",
            "A value is trying to be set on a copy of a slice from a DataFrame\n",
            "\n",
            "See the caveats in the documentation: https://pandas.pydata.org/pandas-docs/stable/user_guide/indexing.html#returning-a-view-versus-a-copy\n",
            "  dataset['clean_reviews2'][i] = review\n",
            "<ipython-input-5-4dfb73b3a9d5>:16: SettingWithCopyWarning: \n",
            "A value is trying to be set on a copy of a slice from a DataFrame\n",
            "\n",
            "See the caveats in the documentation: https://pandas.pydata.org/pandas-docs/stable/user_guide/indexing.html#returning-a-view-versus-a-copy\n",
            "  dataset['clean_reviews2'][i] = None\n",
            "<ipython-input-5-4dfb73b3a9d5>:14: SettingWithCopyWarning: \n",
            "A value is trying to be set on a copy of a slice from a DataFrame\n",
            "\n",
            "See the caveats in the documentation: https://pandas.pydata.org/pandas-docs/stable/user_guide/indexing.html#returning-a-view-versus-a-copy\n",
            "  dataset['clean_reviews2'][i] = review\n"
          ]
        }
      ]
    },
    {
      "cell_type": "code",
      "source": [
        "# Visualización de los datos\n",
        "# Si están en Colab, pueden convertir la tabla en editable con el lápiz de la esquina inferior (ahora es una \"calculadora\" en la esquina superior derecha) y chusmear un poco el efecto del preprocesamiento.\n",
        "dataset"
      ],
      "metadata": {
        "colab": {
          "base_uri": "https://localhost:8080/",
          "height": 2696
        },
        "id": "iTNO_Ff0fa1K",
        "outputId": "994bd841-87b8-4701-b236-0cbd4b04e581"
      },
      "execution_count": null,
      "outputs": [
        {
          "output_type": "execute_result",
          "data": {
            "text/plain": [
              "                                                reviews  \\\n",
              "0     Super confiable...cuando tuve problemas con la...   \n",
              "1     Tiene un buen diseño, y te aseguras de no entr...   \n",
              "2     En mí caso la forma más cómoda de realizar com...   \n",
              "3     Facilita muchas cosas: podes ver precios, moda...   \n",
              "4     Funciona correctamente. Una sugerencia: en cie...   \n",
              "...                                                 ...   \n",
              "4530  Hola me pide verificar mi cuenta con el número...   \n",
              "4531  Hasta ayer, funcionaba de 10! Ahora no puedo a...   \n",
              "4532  La app va bien, pero debes en cuando las trans...   \n",
              "4533  Les daria media estrella.... 7 dias sin poder ...   \n",
              "4534  Buenísima la app me facilitó muchas compras y ...   \n",
              "\n",
              "                                   stars  rating sentiment  class  \\\n",
              "0     Calificación: 5 de cinco estrellas       5  positivo      2   \n",
              "1     Calificación: 5 de cinco estrellas       5  positivo      2   \n",
              "2     Calificación: 5 de cinco estrellas       5  positivo      2   \n",
              "3     Calificación: 4 de cinco estrellas       4  positivo      2   \n",
              "4     Calificación: 5 de cinco estrellas       5  positivo      2   \n",
              "...                                  ...     ...       ...    ...   \n",
              "4530  Calificación: 5 de cinco estrellas       5  positivo      2   \n",
              "4531  Calificación: 3 de cinco estrellas       3   neutral      1   \n",
              "4532  Calificación: 2 de cinco estrellas       2  negativo      0   \n",
              "4533  Calificación: 1 de cinco estrellas       1  negativo      0   \n",
              "4534  Calificación: 4 de cinco estrellas       4  positivo      2   \n",
              "\n",
              "                                          clean_reviews  \\\n",
              "0     super confiable...cuando tuve problemas con la...   \n",
              "1     tiene un buen diseño, y te aseguras de no entr...   \n",
              "2     en mí caso la forma más cómoda de realizar com...   \n",
              "3     facilita muchas cosas: podes ver precios, moda...   \n",
              "4     funcióna correctamente. una sugerencia: en cie...   \n",
              "...                                                 ...   \n",
              "4530  hola me pide verificar mi cuenta con el número...   \n",
              "4531  hasta ayer, funciónaba de 10! ahora no puedo a...   \n",
              "4532  la app va bien, pero debes en cuando las trans...   \n",
              "4533  les daria media estrella.... 7 dias sin poder ...   \n",
              "4534  buenísima la app me facilitó muchas compras y ...   \n",
              "\n",
              "                                         clean_reviews2  \n",
              "0     super confiablecuando problemas demora envío p...  \n",
              "1     buen diseño aseguras no entrar estafa obviamen...  \n",
              "2     caso forma cómoda realizar compras online form...  \n",
              "3     facilita muchas cosas podes ver precios modali...  \n",
              "4     funcióna correctamente sugerencia ciertos mome...  \n",
              "...                                                 ...  \n",
              "4530  hola pide verificar cuenta número celular no c...  \n",
              "4531  ayer funciónaba 10 ahora no puedo abrir aplica...  \n",
              "4532  app va bien debes transferencias no llegan hac...  \n",
              "4533  daria media estrella 7 dias poder hacer transf...  \n",
              "4534  buenísima app facilitó muchas compras paga ins...  \n",
              "\n",
              "[4512 rows x 7 columns]"
            ],
            "text/html": [
              "\n",
              "  <div id=\"df-fe18d638-c988-40f7-acdf-4a5918504ed5\" class=\"colab-df-container\">\n",
              "    <div>\n",
              "<style scoped>\n",
              "    .dataframe tbody tr th:only-of-type {\n",
              "        vertical-align: middle;\n",
              "    }\n",
              "\n",
              "    .dataframe tbody tr th {\n",
              "        vertical-align: top;\n",
              "    }\n",
              "\n",
              "    .dataframe thead th {\n",
              "        text-align: right;\n",
              "    }\n",
              "</style>\n",
              "<table border=\"1\" class=\"dataframe\">\n",
              "  <thead>\n",
              "    <tr style=\"text-align: right;\">\n",
              "      <th></th>\n",
              "      <th>reviews</th>\n",
              "      <th>stars</th>\n",
              "      <th>rating</th>\n",
              "      <th>sentiment</th>\n",
              "      <th>class</th>\n",
              "      <th>clean_reviews</th>\n",
              "      <th>clean_reviews2</th>\n",
              "    </tr>\n",
              "  </thead>\n",
              "  <tbody>\n",
              "    <tr>\n",
              "      <th>0</th>\n",
              "      <td>Super confiable...cuando tuve problemas con la...</td>\n",
              "      <td>Calificación: 5 de cinco estrellas</td>\n",
              "      <td>5</td>\n",
              "      <td>positivo</td>\n",
              "      <td>2</td>\n",
              "      <td>super confiable...cuando tuve problemas con la...</td>\n",
              "      <td>super confiablecuando problemas demora envío p...</td>\n",
              "    </tr>\n",
              "    <tr>\n",
              "      <th>1</th>\n",
              "      <td>Tiene un buen diseño, y te aseguras de no entr...</td>\n",
              "      <td>Calificación: 5 de cinco estrellas</td>\n",
              "      <td>5</td>\n",
              "      <td>positivo</td>\n",
              "      <td>2</td>\n",
              "      <td>tiene un buen diseño, y te aseguras de no entr...</td>\n",
              "      <td>buen diseño aseguras no entrar estafa obviamen...</td>\n",
              "    </tr>\n",
              "    <tr>\n",
              "      <th>2</th>\n",
              "      <td>En mí caso la forma más cómoda de realizar com...</td>\n",
              "      <td>Calificación: 5 de cinco estrellas</td>\n",
              "      <td>5</td>\n",
              "      <td>positivo</td>\n",
              "      <td>2</td>\n",
              "      <td>en mí caso la forma más cómoda de realizar com...</td>\n",
              "      <td>caso forma cómoda realizar compras online form...</td>\n",
              "    </tr>\n",
              "    <tr>\n",
              "      <th>3</th>\n",
              "      <td>Facilita muchas cosas: podes ver precios, moda...</td>\n",
              "      <td>Calificación: 4 de cinco estrellas</td>\n",
              "      <td>4</td>\n",
              "      <td>positivo</td>\n",
              "      <td>2</td>\n",
              "      <td>facilita muchas cosas: podes ver precios, moda...</td>\n",
              "      <td>facilita muchas cosas podes ver precios modali...</td>\n",
              "    </tr>\n",
              "    <tr>\n",
              "      <th>4</th>\n",
              "      <td>Funciona correctamente. Una sugerencia: en cie...</td>\n",
              "      <td>Calificación: 5 de cinco estrellas</td>\n",
              "      <td>5</td>\n",
              "      <td>positivo</td>\n",
              "      <td>2</td>\n",
              "      <td>funcióna correctamente. una sugerencia: en cie...</td>\n",
              "      <td>funcióna correctamente sugerencia ciertos mome...</td>\n",
              "    </tr>\n",
              "    <tr>\n",
              "      <th>...</th>\n",
              "      <td>...</td>\n",
              "      <td>...</td>\n",
              "      <td>...</td>\n",
              "      <td>...</td>\n",
              "      <td>...</td>\n",
              "      <td>...</td>\n",
              "      <td>...</td>\n",
              "    </tr>\n",
              "    <tr>\n",
              "      <th>4530</th>\n",
              "      <td>Hola me pide verificar mi cuenta con el número...</td>\n",
              "      <td>Calificación: 5 de cinco estrellas</td>\n",
              "      <td>5</td>\n",
              "      <td>positivo</td>\n",
              "      <td>2</td>\n",
              "      <td>hola me pide verificar mi cuenta con el número...</td>\n",
              "      <td>hola pide verificar cuenta número celular no c...</td>\n",
              "    </tr>\n",
              "    <tr>\n",
              "      <th>4531</th>\n",
              "      <td>Hasta ayer, funcionaba de 10! Ahora no puedo a...</td>\n",
              "      <td>Calificación: 3 de cinco estrellas</td>\n",
              "      <td>3</td>\n",
              "      <td>neutral</td>\n",
              "      <td>1</td>\n",
              "      <td>hasta ayer, funciónaba de 10! ahora no puedo a...</td>\n",
              "      <td>ayer funciónaba 10 ahora no puedo abrir aplica...</td>\n",
              "    </tr>\n",
              "    <tr>\n",
              "      <th>4532</th>\n",
              "      <td>La app va bien, pero debes en cuando las trans...</td>\n",
              "      <td>Calificación: 2 de cinco estrellas</td>\n",
              "      <td>2</td>\n",
              "      <td>negativo</td>\n",
              "      <td>0</td>\n",
              "      <td>la app va bien, pero debes en cuando las trans...</td>\n",
              "      <td>app va bien debes transferencias no llegan hac...</td>\n",
              "    </tr>\n",
              "    <tr>\n",
              "      <th>4533</th>\n",
              "      <td>Les daria media estrella.... 7 dias sin poder ...</td>\n",
              "      <td>Calificación: 1 de cinco estrellas</td>\n",
              "      <td>1</td>\n",
              "      <td>negativo</td>\n",
              "      <td>0</td>\n",
              "      <td>les daria media estrella.... 7 dias sin poder ...</td>\n",
              "      <td>daria media estrella 7 dias poder hacer transf...</td>\n",
              "    </tr>\n",
              "    <tr>\n",
              "      <th>4534</th>\n",
              "      <td>Buenísima la app me facilitó muchas compras y ...</td>\n",
              "      <td>Calificación: 4 de cinco estrellas</td>\n",
              "      <td>4</td>\n",
              "      <td>positivo</td>\n",
              "      <td>2</td>\n",
              "      <td>buenísima la app me facilitó muchas compras y ...</td>\n",
              "      <td>buenísima app facilitó muchas compras paga ins...</td>\n",
              "    </tr>\n",
              "  </tbody>\n",
              "</table>\n",
              "<p>4512 rows × 7 columns</p>\n",
              "</div>\n",
              "    <div class=\"colab-df-buttons\">\n",
              "\n",
              "  <div class=\"colab-df-container\">\n",
              "    <button class=\"colab-df-convert\" onclick=\"convertToInteractive('df-fe18d638-c988-40f7-acdf-4a5918504ed5')\"\n",
              "            title=\"Convert this dataframe to an interactive table.\"\n",
              "            style=\"display:none;\">\n",
              "\n",
              "  <svg xmlns=\"http://www.w3.org/2000/svg\" height=\"24px\" viewBox=\"0 -960 960 960\">\n",
              "    <path d=\"M120-120v-720h720v720H120Zm60-500h600v-160H180v160Zm220 220h160v-160H400v160Zm0 220h160v-160H400v160ZM180-400h160v-160H180v160Zm440 0h160v-160H620v160ZM180-180h160v-160H180v160Zm440 0h160v-160H620v160Z\"/>\n",
              "  </svg>\n",
              "    </button>\n",
              "\n",
              "  <style>\n",
              "    .colab-df-container {\n",
              "      display:flex;\n",
              "      gap: 12px;\n",
              "    }\n",
              "\n",
              "    .colab-df-convert {\n",
              "      background-color: #E8F0FE;\n",
              "      border: none;\n",
              "      border-radius: 50%;\n",
              "      cursor: pointer;\n",
              "      display: none;\n",
              "      fill: #1967D2;\n",
              "      height: 32px;\n",
              "      padding: 0 0 0 0;\n",
              "      width: 32px;\n",
              "    }\n",
              "\n",
              "    .colab-df-convert:hover {\n",
              "      background-color: #E2EBFA;\n",
              "      box-shadow: 0px 1px 2px rgba(60, 64, 67, 0.3), 0px 1px 3px 1px rgba(60, 64, 67, 0.15);\n",
              "      fill: #174EA6;\n",
              "    }\n",
              "\n",
              "    .colab-df-buttons div {\n",
              "      margin-bottom: 4px;\n",
              "    }\n",
              "\n",
              "    [theme=dark] .colab-df-convert {\n",
              "      background-color: #3B4455;\n",
              "      fill: #D2E3FC;\n",
              "    }\n",
              "\n",
              "    [theme=dark] .colab-df-convert:hover {\n",
              "      background-color: #434B5C;\n",
              "      box-shadow: 0px 1px 3px 1px rgba(0, 0, 0, 0.15);\n",
              "      filter: drop-shadow(0px 1px 2px rgba(0, 0, 0, 0.3));\n",
              "      fill: #FFFFFF;\n",
              "    }\n",
              "  </style>\n",
              "\n",
              "    <script>\n",
              "      const buttonEl =\n",
              "        document.querySelector('#df-fe18d638-c988-40f7-acdf-4a5918504ed5 button.colab-df-convert');\n",
              "      buttonEl.style.display =\n",
              "        google.colab.kernel.accessAllowed ? 'block' : 'none';\n",
              "\n",
              "      async function convertToInteractive(key) {\n",
              "        const element = document.querySelector('#df-fe18d638-c988-40f7-acdf-4a5918504ed5');\n",
              "        const dataTable =\n",
              "          await google.colab.kernel.invokeFunction('convertToInteractive',\n",
              "                                                    [key], {});\n",
              "        if (!dataTable) return;\n",
              "\n",
              "        const docLinkHtml = 'Like what you see? Visit the ' +\n",
              "          '<a target=\"_blank\" href=https://colab.research.google.com/notebooks/data_table.ipynb>data table notebook</a>'\n",
              "          + ' to learn more about interactive tables.';\n",
              "        element.innerHTML = '';\n",
              "        dataTable['output_type'] = 'display_data';\n",
              "        await google.colab.output.renderOutput(dataTable, element);\n",
              "        const docLink = document.createElement('div');\n",
              "        docLink.innerHTML = docLinkHtml;\n",
              "        element.appendChild(docLink);\n",
              "      }\n",
              "    </script>\n",
              "  </div>\n",
              "\n",
              "\n",
              "<div id=\"df-4accfc39-e8ce-478f-a1b0-33a6da7f9707\">\n",
              "  <button class=\"colab-df-quickchart\" onclick=\"quickchart('df-4accfc39-e8ce-478f-a1b0-33a6da7f9707')\"\n",
              "            title=\"Suggest charts.\"\n",
              "            style=\"display:none;\">\n",
              "\n",
              "<svg xmlns=\"http://www.w3.org/2000/svg\" height=\"24px\"viewBox=\"0 0 24 24\"\n",
              "     width=\"24px\">\n",
              "    <g>\n",
              "        <path d=\"M19 3H5c-1.1 0-2 .9-2 2v14c0 1.1.9 2 2 2h14c1.1 0 2-.9 2-2V5c0-1.1-.9-2-2-2zM9 17H7v-7h2v7zm4 0h-2V7h2v10zm4 0h-2v-4h2v4z\"/>\n",
              "    </g>\n",
              "</svg>\n",
              "  </button>\n",
              "\n",
              "<style>\n",
              "  .colab-df-quickchart {\n",
              "      --bg-color: #E8F0FE;\n",
              "      --fill-color: #1967D2;\n",
              "      --hover-bg-color: #E2EBFA;\n",
              "      --hover-fill-color: #174EA6;\n",
              "      --disabled-fill-color: #AAA;\n",
              "      --disabled-bg-color: #DDD;\n",
              "  }\n",
              "\n",
              "  [theme=dark] .colab-df-quickchart {\n",
              "      --bg-color: #3B4455;\n",
              "      --fill-color: #D2E3FC;\n",
              "      --hover-bg-color: #434B5C;\n",
              "      --hover-fill-color: #FFFFFF;\n",
              "      --disabled-bg-color: #3B4455;\n",
              "      --disabled-fill-color: #666;\n",
              "  }\n",
              "\n",
              "  .colab-df-quickchart {\n",
              "    background-color: var(--bg-color);\n",
              "    border: none;\n",
              "    border-radius: 50%;\n",
              "    cursor: pointer;\n",
              "    display: none;\n",
              "    fill: var(--fill-color);\n",
              "    height: 32px;\n",
              "    padding: 0;\n",
              "    width: 32px;\n",
              "  }\n",
              "\n",
              "  .colab-df-quickchart:hover {\n",
              "    background-color: var(--hover-bg-color);\n",
              "    box-shadow: 0 1px 2px rgba(60, 64, 67, 0.3), 0 1px 3px 1px rgba(60, 64, 67, 0.15);\n",
              "    fill: var(--button-hover-fill-color);\n",
              "  }\n",
              "\n",
              "  .colab-df-quickchart-complete:disabled,\n",
              "  .colab-df-quickchart-complete:disabled:hover {\n",
              "    background-color: var(--disabled-bg-color);\n",
              "    fill: var(--disabled-fill-color);\n",
              "    box-shadow: none;\n",
              "  }\n",
              "\n",
              "  .colab-df-spinner {\n",
              "    border: 2px solid var(--fill-color);\n",
              "    border-color: transparent;\n",
              "    border-bottom-color: var(--fill-color);\n",
              "    animation:\n",
              "      spin 1s steps(1) infinite;\n",
              "  }\n",
              "\n",
              "  @keyframes spin {\n",
              "    0% {\n",
              "      border-color: transparent;\n",
              "      border-bottom-color: var(--fill-color);\n",
              "      border-left-color: var(--fill-color);\n",
              "    }\n",
              "    20% {\n",
              "      border-color: transparent;\n",
              "      border-left-color: var(--fill-color);\n",
              "      border-top-color: var(--fill-color);\n",
              "    }\n",
              "    30% {\n",
              "      border-color: transparent;\n",
              "      border-left-color: var(--fill-color);\n",
              "      border-top-color: var(--fill-color);\n",
              "      border-right-color: var(--fill-color);\n",
              "    }\n",
              "    40% {\n",
              "      border-color: transparent;\n",
              "      border-right-color: var(--fill-color);\n",
              "      border-top-color: var(--fill-color);\n",
              "    }\n",
              "    60% {\n",
              "      border-color: transparent;\n",
              "      border-right-color: var(--fill-color);\n",
              "    }\n",
              "    80% {\n",
              "      border-color: transparent;\n",
              "      border-right-color: var(--fill-color);\n",
              "      border-bottom-color: var(--fill-color);\n",
              "    }\n",
              "    90% {\n",
              "      border-color: transparent;\n",
              "      border-bottom-color: var(--fill-color);\n",
              "    }\n",
              "  }\n",
              "</style>\n",
              "\n",
              "  <script>\n",
              "    async function quickchart(key) {\n",
              "      const quickchartButtonEl =\n",
              "        document.querySelector('#' + key + ' button');\n",
              "      quickchartButtonEl.disabled = true;  // To prevent multiple clicks.\n",
              "      quickchartButtonEl.classList.add('colab-df-spinner');\n",
              "      try {\n",
              "        const charts = await google.colab.kernel.invokeFunction(\n",
              "            'suggestCharts', [key], {});\n",
              "      } catch (error) {\n",
              "        console.error('Error during call to suggestCharts:', error);\n",
              "      }\n",
              "      quickchartButtonEl.classList.remove('colab-df-spinner');\n",
              "      quickchartButtonEl.classList.add('colab-df-quickchart-complete');\n",
              "    }\n",
              "    (() => {\n",
              "      let quickchartButtonEl =\n",
              "        document.querySelector('#df-4accfc39-e8ce-478f-a1b0-33a6da7f9707 button');\n",
              "      quickchartButtonEl.style.display =\n",
              "        google.colab.kernel.accessAllowed ? 'block' : 'none';\n",
              "    })();\n",
              "  </script>\n",
              "</div>\n",
              "    </div>\n",
              "  </div>\n"
            ]
          },
          "metadata": {},
          "execution_count": 6
        }
      ]
    },
    {
      "cell_type": "markdown",
      "source": [
        "### Codificación de la información"
      ],
      "metadata": {
        "id": "jdne6YSePP-T"
      }
    },
    {
      "cell_type": "code",
      "source": [
        "# Proceso de codificacion de palabras\n",
        "# Charlamos un poco de esto\n",
        "# En resumidas cuentas... buscamos una manera de transformar la serie temporal humana (oraciones y párrafos),\n",
        "# en series temporales que pueden ser analizadas por la RNA.\n",
        "from tensorflow.keras.preprocessing.text import one_hot\n",
        "\n",
        "VOCABULARIO_LIM = 10000\n",
        "onehot_repr=[one_hot(words,VOCABULARIO_LIM) for words in dataset['clean_reviews2']]"
      ],
      "metadata": {
        "id": "sEmWccsJnfdM"
      },
      "execution_count": null,
      "outputs": []
    },
    {
      "cell_type": "code",
      "source": [
        "# Comentario con más palabras\n",
        "PAL_MAX = 0\n",
        "for x in dataset['clean_reviews2']:\n",
        "    PAL_MAX = max(PAL_MAX,len(x.split(' ')))\n",
        "print(PAL_MAX)"
      ],
      "metadata": {
        "colab": {
          "base_uri": "https://localhost:8080/"
        },
        "id": "obboaNxuo4Kw",
        "outputId": "e0b16e36-86da-4e1e-9eba-2a043bb23665"
      },
      "execution_count": null,
      "outputs": [
        {
          "output_type": "stream",
          "name": "stdout",
          "text": [
            "131\n"
          ]
        }
      ]
    },
    {
      "cell_type": "code",
      "source": [
        "from tensorflow.keras.preprocessing.sequence import pad_sequences\n",
        "\n",
        "embedded_docs=pad_sequences(onehot_repr,padding='pre',maxlen=PAL_MAX)\n",
        "print(embedded_docs)"
      ],
      "metadata": {
        "colab": {
          "base_uri": "https://localhost:8080/"
        },
        "id": "n7UPeCT4pQPc",
        "outputId": "d3175be6-b62b-400f-9b1f-9626055df1c7"
      },
      "execution_count": null,
      "outputs": [
        {
          "output_type": "stream",
          "name": "stdout",
          "text": [
            "[[   0    0    0 ... 2947 9819 3563]\n",
            " [   0    0    0 ... 4356 5659  133]\n",
            " [   0    0    0 ... 7687 7688 9683]\n",
            " ...\n",
            " [   0    0    0 ... 9782 5100 6358]\n",
            " [   0    0    0 ... 4274 6885 3650]\n",
            " [   0    0    0 ... 8852 8173 5384]]\n"
          ]
        }
      ]
    },
    {
      "cell_type": "code",
      "source": [
        "len(embedded_docs)"
      ],
      "metadata": {
        "colab": {
          "base_uri": "https://localhost:8080/"
        },
        "id": "vuP7UQLapjzT",
        "outputId": "ce0a7abf-c2e7-4c5a-b7d2-da7402924e81"
      },
      "execution_count": null,
      "outputs": [
        {
          "output_type": "execute_result",
          "data": {
            "text/plain": [
              "4512"
            ]
          },
          "metadata": {},
          "execution_count": 10
        }
      ]
    },
    {
      "cell_type": "code",
      "source": [
        "# Codificación de las clases de salida (negativo, neutral, positivo)\n",
        "label_encoder = preprocessing.LabelEncoder()\n",
        "\n",
        "y = dataset['sentiment']\n",
        "y = label_encoder.fit_transform(y)\n",
        "\n",
        "X_data = np.array(embedded_docs)\n",
        "y_data = np.array(y)\n",
        "\n",
        "# Verificación de tamaños, deben ser coherentes las cantidades (entrada y salida para la red)\n",
        "X_data.shape, y_data.shape"
      ],
      "metadata": {
        "id": "_bAEngDxP3S6",
        "colab": {
          "base_uri": "https://localhost:8080/"
        },
        "outputId": "52128bb0-ccf1-48fc-a39a-1fc2c5828e01"
      },
      "execution_count": null,
      "outputs": [
        {
          "output_type": "execute_result",
          "data": {
            "text/plain": [
              "((4512, 131), (4512,))"
            ]
          },
          "metadata": {},
          "execution_count": 11
        }
      ]
    },
    {
      "cell_type": "code",
      "source": [
        "\"\"\"\n",
        "from pickle import dump\n",
        "# Ejemplo para guardar algún escalador, codificador que salga durante el proceso de EDA o modelado.\n",
        "dump(label_encoder, open('label_encoder.pkl', 'wb'))\n",
        "\"\"\"\n",
        "\n",
        "\"\"\"\n",
        "from pickle import load\n",
        "# Ejemplo para cargar el objeto a partir del archivo guardado\n",
        "label_encoder = load(open('label_encoder.pkl', 'rb'))\n",
        "\"\"\"\n",
        "\n",
        "\n",
        "# Podemos usar 'pickle' para guardar objetos complejos, como modelos de machine learning,\n",
        "# estructuras de datos, listas, diccionarios, y más, en archivos en disco. Esto es útil\n",
        "# para almacenar datos entre sesiones de trabajo o compartir resultados con otros usuarios."
      ],
      "metadata": {
        "id": "Dv-_ILx2rWXe"
      },
      "execution_count": null,
      "outputs": []
    },
    {
      "cell_type": "markdown",
      "source": [
        "## RNA"
      ],
      "metadata": {
        "id": "3lZmiFA3REZe"
      }
    },
    {
      "cell_type": "markdown",
      "source": [
        "### Definición del modelo"
      ],
      "metadata": {
        "id": "Jsw0g09vPWBU"
      }
    },
    {
      "cell_type": "code",
      "source": [
        "embedding_vector_features = 100\n",
        "model=Sequential()\n",
        "model.add(Embedding(VOCABULARIO_LIM, embedding_vector_features, input_length=PAL_MAX)) # Importante tamaño de entrada\n",
        "model.add(Dropout(0.3))\n",
        "model.add(Bidirectional(LSTM(64))) # La magia para series temporales - Long short-term memory\n",
        "model.add(Dropout(0.3))\n",
        "\n",
        "# Acá se pueden probar topologías\n",
        "model.add(Dense(64, activation='relu', kernel_regularizer=tf.keras.regularizers.l1(0.01)))\n",
        "model.add(Dropout(0.3))\n",
        "model.add(Dense(3, activation='softmax')) # Importante tamaño de salida, sale de la codificación de las 3 clases\n",
        "model.compile(loss='sparse_categorical_crossentropy', optimizer=tf.keras.optimizers.Adam(learning_rate=0.01), metrics=['accuracy'])\n",
        "model.summary()\n",
        "\n",
        "# Así como está... notar que es un modelo de más de UN MILLÓN de parámetros"
      ],
      "metadata": {
        "colab": {
          "base_uri": "https://localhost:8080/"
        },
        "id": "0D6MRbHwqCTD",
        "outputId": "a8c3b2f4-c349-48c5-81a0-1a02536efc0c"
      },
      "execution_count": null,
      "outputs": [
        {
          "output_type": "stream",
          "name": "stdout",
          "text": [
            "Model: \"sequential\"\n",
            "_________________________________________________________________\n",
            " Layer (type)                Output Shape              Param #   \n",
            "=================================================================\n",
            " embedding (Embedding)       (None, 131, 100)          1000000   \n",
            "                                                                 \n",
            " dropout (Dropout)           (None, 131, 100)          0         \n",
            "                                                                 \n",
            " bidirectional (Bidirection  (None, 128)               84480     \n",
            " al)                                                             \n",
            "                                                                 \n",
            " dropout_1 (Dropout)         (None, 128)               0         \n",
            "                                                                 \n",
            " dense (Dense)               (None, 64)                8256      \n",
            "                                                                 \n",
            " dropout_2 (Dropout)         (None, 64)                0         \n",
            "                                                                 \n",
            " dense_1 (Dense)             (None, 3)                 195       \n",
            "                                                                 \n",
            "=================================================================\n",
            "Total params: 1092931 (4.17 MB)\n",
            "Trainable params: 1092931 (4.17 MB)\n",
            "Non-trainable params: 0 (0.00 Byte)\n",
            "_________________________________________________________________\n"
          ]
        }
      ]
    },
    {
      "cell_type": "markdown",
      "source": [
        "### División de los sets"
      ],
      "metadata": {
        "id": "eCKwEh3XQdM9"
      }
    },
    {
      "cell_type": "code",
      "source": [
        "# Subdividimos 2 veces. Conseguimos 3 sets diferentes: train, val y test. El de test usamos recién al final, no interviene en el entrenamiento.\n",
        "X_train, X_test, y_train, y_test = train_test_split(X_data, y_data, test_size=0.2, random_state=1)\n",
        "X_train, X_val, y_train, y_val = train_test_split(X_train, y_train, test_size=0.2, random_state=1)"
      ],
      "metadata": {
        "id": "oTOYI1h1rhs8"
      },
      "execution_count": null,
      "outputs": []
    },
    {
      "cell_type": "markdown",
      "source": [
        "### Entrenamiento"
      ],
      "metadata": {
        "id": "AP7oW2VAQgd-"
      }
    },
    {
      "cell_type": "markdown",
      "source": [
        "Este va a tardar un poco más que los anteriores. Con los recursos de Colab, serían unos 2 minutos aproximadamente (nada en comparación a los modelos actuales igualmente)."
      ],
      "metadata": {
        "id": "L8fp3zSdlm6h"
      }
    },
    {
      "cell_type": "code",
      "source": [
        "# Acá implementamos algo nuevo. Guardamos los pesos del mejor modelo resultante en el entrenamiento\n",
        "# Al final, va demostración de cómo podría usarse para predicciones sobre nuevas entradas\n",
        "model_save = ModelCheckpoint('weights.h5', save_best_only = True, save_weights_only = False, monitor = 'val_loss',\n",
        "                             mode = 'min', verbose = 1)\n",
        "history = model.fit(X_train, y_train, validation_data=(X_val, y_val), epochs=10, batch_size=256, callbacks=[model_save])"
      ],
      "metadata": {
        "colab": {
          "base_uri": "https://localhost:8080/"
        },
        "id": "FgTxuGErr4SJ",
        "outputId": "75f3b320-c126-4015-9403-88bb19d6d129"
      },
      "execution_count": null,
      "outputs": [
        {
          "output_type": "stream",
          "name": "stdout",
          "text": [
            "Epoch 1/10\n",
            "12/12 [==============================] - ETA: 0s - loss: 5.1160 - accuracy: 0.5705\n",
            "Epoch 1: val_loss improved from inf to 2.25633, saving model to weights.h5\n",
            "12/12 [==============================] - 16s 918ms/step - loss: 5.1160 - accuracy: 0.5705 - val_loss: 2.2563 - val_accuracy: 0.7313\n",
            "Epoch 2/10\n"
          ]
        },
        {
          "output_type": "stream",
          "name": "stderr",
          "text": [
            "/usr/local/lib/python3.10/dist-packages/keras/src/engine/training.py:3000: UserWarning: You are saving your model as an HDF5 file via `model.save()`. This file format is considered legacy. We recommend using instead the native Keras format, e.g. `model.save('my_model.keras')`.\n",
            "  saving_api.save_model(\n"
          ]
        },
        {
          "output_type": "stream",
          "name": "stdout",
          "text": [
            "12/12 [==============================] - ETA: 0s - loss: 1.6286 - accuracy: 0.8195\n",
            "Epoch 2: val_loss improved from 2.25633 to 1.36724, saving model to weights.h5\n",
            "12/12 [==============================] - 10s 828ms/step - loss: 1.6286 - accuracy: 0.8195 - val_loss: 1.3672 - val_accuracy: 0.8227\n",
            "Epoch 3/10\n",
            "12/12 [==============================] - ETA: 0s - loss: 0.9659 - accuracy: 0.8964\n",
            "Epoch 3: val_loss improved from 1.36724 to 0.90537, saving model to weights.h5\n",
            "12/12 [==============================] - 9s 764ms/step - loss: 0.9659 - accuracy: 0.8964 - val_loss: 0.9054 - val_accuracy: 0.8393\n",
            "Epoch 4/10\n",
            "12/12 [==============================] - ETA: 0s - loss: 0.6841 - accuracy: 0.8888\n",
            "Epoch 4: val_loss improved from 0.90537 to 0.90219, saving model to weights.h5\n",
            "12/12 [==============================] - 10s 758ms/step - loss: 0.6841 - accuracy: 0.8888 - val_loss: 0.9022 - val_accuracy: 0.8019\n",
            "Epoch 5/10\n",
            "12/12 [==============================] - ETA: 0s - loss: 0.5552 - accuracy: 0.9117\n",
            "Epoch 5: val_loss improved from 0.90219 to 0.84681, saving model to weights.h5\n",
            "12/12 [==============================] - 11s 912ms/step - loss: 0.5552 - accuracy: 0.9117 - val_loss: 0.8468 - val_accuracy: 0.8102\n",
            "Epoch 6/10\n",
            "12/12 [==============================] - ETA: 0s - loss: 0.4583 - accuracy: 0.9304\n",
            "Epoch 6: val_loss improved from 0.84681 to 0.79944, saving model to weights.h5\n",
            "12/12 [==============================] - 10s 844ms/step - loss: 0.4583 - accuracy: 0.9304 - val_loss: 0.7994 - val_accuracy: 0.8061\n",
            "Epoch 7/10\n",
            "12/12 [==============================] - ETA: 0s - loss: 0.3938 - accuracy: 0.9456\n",
            "Epoch 7: val_loss did not improve from 0.79944\n",
            "12/12 [==============================] - 9s 760ms/step - loss: 0.3938 - accuracy: 0.9456 - val_loss: 0.8456 - val_accuracy: 0.8061\n",
            "Epoch 8/10\n",
            "12/12 [==============================] - ETA: 0s - loss: 0.3535 - accuracy: 0.9550\n",
            "Epoch 8: val_loss did not improve from 0.79944\n",
            "12/12 [==============================] - 10s 798ms/step - loss: 0.3535 - accuracy: 0.9550 - val_loss: 0.9020 - val_accuracy: 0.7770\n",
            "Epoch 9/10\n",
            "12/12 [==============================] - ETA: 0s - loss: 0.3215 - accuracy: 0.9636\n",
            "Epoch 9: val_loss did not improve from 0.79944\n",
            "12/12 [==============================] - 12s 1s/step - loss: 0.3215 - accuracy: 0.9636 - val_loss: 0.9305 - val_accuracy: 0.8144\n",
            "Epoch 10/10\n",
            "12/12 [==============================] - ETA: 0s - loss: 0.3231 - accuracy: 0.9647\n",
            "Epoch 10: val_loss did not improve from 0.79944\n",
            "12/12 [==============================] - 10s 851ms/step - loss: 0.3231 - accuracy: 0.9647 - val_loss: 0.9616 - val_accuracy: 0.7812\n"
          ]
        }
      ]
    },
    {
      "cell_type": "markdown",
      "source": [
        "### Métricas resultantes del entrenamiento"
      ],
      "metadata": {
        "id": "Qd301NuTQjhe"
      }
    },
    {
      "cell_type": "code",
      "source": [
        "#print(history.history.keys())\n",
        "#  \"Accuracy\"\n",
        "plt.plot(history.history['accuracy'])\n",
        "plt.plot(history.history['val_accuracy'])\n",
        "plt.title('Precisión del Modelo')\n",
        "plt.ylabel('Accuracy')\n",
        "plt.xlabel('Epoch')\n",
        "plt.legend(['Train', 'Validation'], loc='upper left')\n",
        "plt.show()\n",
        "# \"Loss\"\n",
        "plt.plot(history.history['loss'])\n",
        "plt.plot(history.history['val_loss'])\n",
        "plt.title('Pérdida del Modelo')\n",
        "plt.ylabel('Loss')\n",
        "plt.xlabel('Epoch')\n",
        "plt.legend(['Train', 'Validation'], loc='upper left')\n",
        "plt.show()"
      ],
      "metadata": {
        "colab": {
          "base_uri": "https://localhost:8080/",
          "height": 927
        },
        "id": "kYtkXf2rsIzb",
        "outputId": "ac68b802-fef5-4c8e-cad1-c6bd582537ca"
      },
      "execution_count": null,
      "outputs": [
        {
          "output_type": "display_data",
          "data": {
            "text/plain": [
              "<Figure size 640x480 with 1 Axes>"
            ],
            "image/png": "[encoded data removed]"
          },
          "metadata": {}
        },
        {
          "output_type": "display_data",
          "data": {
            "text/plain": [
              "<Figure size 640x480 with 1 Axes>"
            ],
            "image/png": "[encoded data removed]"
          },
          "metadata": {}
        }
      ]
    },
    {
      "cell_type": "markdown",
      "source": [
        "### Prediciones sobre el set de Test"
      ],
      "metadata": {
        "id": "WDqLmk--QpkH"
      }
    },
    {
      "cell_type": "code",
      "source": [
        "# Levantamos el mejor modelo\n",
        "model.load_weights('weights.h5')\n",
        "\n",
        "# Predicciones de los datos en test\n",
        "y_pred = model.predict(X_test)\n",
        "print(y_pred)\n",
        "\n",
        "# Devuelve un vector con la pertenencia a cada clase, probabilidad"
      ],
      "metadata": {
        "colab": {
          "base_uri": "https://localhost:8080/"
        },
        "id": "VuuH393hskXy",
        "outputId": "9eb28de4-ec59-45d6-9563-902966cdbadf"
      },
      "execution_count": null,
      "outputs": [
        {
          "output_type": "stream",
          "name": "stdout",
          "text": [
            "29/29 [==============================] - 2s 37ms/step\n",
            "[[0.05476975 0.05798611 0.88724416]\n",
            " [0.02549658 0.03906181 0.93544155]\n",
            " [0.8447318  0.10652833 0.04873973]\n",
            " ...\n",
            " [0.7752609  0.12280501 0.1019341 ]\n",
            " [0.97994435 0.01210134 0.00795426]\n",
            " [0.39211982 0.11006227 0.4978179 ]]\n"
          ]
        }
      ]
    },
    {
      "cell_type": "code",
      "source": [
        "# Pequeña función para evaluar la respuesta y obtener la clase emergente\n",
        "def predict_class(y_pred):\n",
        "    y_class = []\n",
        "    for i in y_pred:\n",
        "        y_class.append(int(np.where(i == np.amax(i))[0]))\n",
        "\n",
        "    return np.array(y_class)"
      ],
      "metadata": {
        "id": "MeLQoK5oDahN"
      },
      "execution_count": null,
      "outputs": []
    },
    {
      "cell_type": "code",
      "source": [
        "y_pred_class = predict_class(y_pred)\n",
        "# Ahora se puede comparar directamente y_pred con y_test"
      ],
      "metadata": {
        "id": "LE9uJIbZEIpP"
      },
      "execution_count": null,
      "outputs": []
    },
    {
      "cell_type": "code",
      "source": [
        "y_pred_class\n",
        "# Queda en evidencia que una comparación visual es... poco eficiente :/"
      ],
      "metadata": {
        "colab": {
          "base_uri": "https://localhost:8080/"
        },
        "id": "g-UcySn-FXfW",
        "outputId": "c1d867b7-c1d0-4d46-aa84-76e3f4fc5f6f"
      },
      "execution_count": null,
      "outputs": [
        {
          "output_type": "execute_result",
          "data": {
            "text/plain": [
              "array([2, 2, 0, 0, 0, 0, 2, 2, 2, 2, 2, 2, 0, 0, 2, 0, 2, 0, 2, 0, 2, 2,\n",
              "       2, 0, 0, 0, 0, 0, 0, 0, 0, 2, 2, 0, 0, 2, 0, 0, 2, 0, 0, 0, 2, 2,\n",
              "       0, 0, 0, 2, 0, 2, 0, 0, 0, 0, 2, 2, 0, 2, 2, 2, 0, 0, 0, 0, 0, 2,\n",
              "       0, 2, 2, 2, 0, 2, 0, 0, 0, 2, 0, 0, 0, 0, 0, 0, 0, 2, 2, 0, 0, 0,\n",
              "       2, 0, 2, 0, 0, 0, 2, 0, 0, 0, 0, 0, 0, 0, 0, 2, 0, 2, 0, 2, 0, 0,\n",
              "       2, 0, 2, 0, 0, 0, 0, 2, 2, 2, 0, 0, 2, 2, 2, 2, 0, 0, 0, 2, 0, 2,\n",
              "       0, 0, 2, 2, 0, 0, 0, 0, 2, 0, 0, 2, 0, 2, 2, 2, 2, 0, 0, 2, 2, 0,\n",
              "       0, 2, 0, 0, 2, 2, 1, 2, 0, 0, 0, 0, 0, 0, 0, 0, 0, 0, 2, 0, 0, 2,\n",
              "       0, 0, 0, 2, 0, 2, 2, 2, 0, 0, 0, 0, 2, 0, 0, 0, 2, 0, 0, 0, 0, 0,\n",
              "       2, 2, 2, 2, 0, 0, 2, 2, 0, 0, 2, 0, 2, 0, 0, 0, 0, 0, 0, 0, 2, 2,\n",
              "       0, 0, 0, 2, 2, 2, 0, 0, 0, 2, 2, 0, 2, 0, 2, 2, 2, 2, 2, 0, 0, 0,\n",
              "       2, 0, 0, 2, 2, 0, 0, 0, 2, 0, 2, 0, 0, 0, 2, 0, 0, 0, 0, 0, 0, 2,\n",
              "       0, 0, 0, 2, 0, 2, 2, 0, 2, 0, 0, 0, 0, 2, 0, 0, 2, 0, 2, 0, 0, 2,\n",
              "       0, 0, 2, 0, 0, 0, 0, 0, 0, 0, 0, 0, 2, 2, 0, 0, 0, 2, 0, 0, 0, 0,\n",
              "       2, 0, 0, 2, 2, 0, 2, 0, 0, 0, 0, 0, 2, 0, 0, 0, 0, 0, 0, 2, 0, 0,\n",
              "       0, 2, 0, 1, 0, 0, 2, 0, 0, 0, 0, 0, 0, 2, 2, 0, 0, 2, 0, 0, 2, 2,\n",
              "       2, 0, 0, 0, 2, 2, 0, 0, 0, 0, 0, 0, 0, 2, 0, 0, 0, 0, 2, 0, 0, 0,\n",
              "       0, 0, 0, 0, 2, 0, 2, 2, 2, 2, 0, 0, 0, 0, 0, 0, 2, 0, 0, 0, 0, 2,\n",
              "       0, 2, 2, 1, 2, 2, 2, 0, 0, 2, 0, 0, 0, 2, 0, 0, 0, 0, 0, 2, 2, 2,\n",
              "       0, 2, 0, 2, 0, 2, 0, 2, 0, 0, 0, 0, 0, 0, 0, 0, 0, 0, 2, 0, 2, 2,\n",
              "       0, 2, 2, 2, 2, 0, 0, 2, 0, 1, 0, 2, 0, 2, 0, 0, 2, 2, 0, 0, 0, 0,\n",
              "       0, 0, 2, 0, 0, 0, 0, 0, 0, 2, 0, 0, 1, 2, 0, 2, 0, 0, 0, 0, 0, 2,\n",
              "       0, 0, 0, 2, 2, 0, 2, 0, 2, 2, 2, 0, 0, 2, 0, 2, 0, 0, 2, 2, 0, 0,\n",
              "       0, 0, 0, 2, 0, 2, 0, 0, 0, 0, 2, 0, 2, 2, 2, 2, 0, 0, 2, 2, 2, 2,\n",
              "       0, 2, 2, 0, 0, 0, 2, 2, 2, 0, 0, 0, 2, 2, 0, 2, 2, 0, 0, 0, 1, 2,\n",
              "       0, 2, 0, 0, 2, 2, 0, 2, 2, 0, 2, 0, 2, 0, 0, 0, 2, 0, 2, 0, 0, 0,\n",
              "       0, 0, 0, 2, 2, 0, 0, 0, 0, 0, 0, 0, 0, 2, 0, 2, 0, 2, 0, 2, 2, 2,\n",
              "       2, 0, 0, 1, 2, 2, 2, 0, 0, 0, 0, 0, 0, 2, 2, 0, 2, 0, 2, 2, 2, 0,\n",
              "       0, 2, 0, 0, 2, 0, 0, 0, 2, 0, 0, 2, 0, 2, 0, 0, 0, 0, 0, 0, 0, 2,\n",
              "       0, 0, 0, 2, 2, 2, 0, 2, 0, 2, 0, 2, 2, 0, 0, 0, 0, 2, 2, 0, 0, 0,\n",
              "       0, 0, 0, 2, 0, 2, 0, 0, 0, 0, 0, 0, 0, 0, 0, 2, 0, 2, 2, 0, 0, 2,\n",
              "       2, 2, 2, 0, 2, 0, 0, 0, 0, 0, 0, 0, 0, 0, 0, 0, 0, 2, 0, 2, 0, 0,\n",
              "       2, 2, 0, 2, 0, 0, 0, 2, 2, 0, 2, 2, 0, 0, 2, 0, 0, 0, 0, 2, 0, 2,\n",
              "       0, 2, 2, 0, 2, 2, 0, 1, 2, 0, 0, 2, 0, 0, 2, 0, 0, 0, 0, 0, 0, 2,\n",
              "       2, 0, 0, 2, 2, 2, 0, 0, 2, 0, 2, 0, 0, 2, 2, 0, 2, 0, 0, 2, 2, 0,\n",
              "       0, 2, 0, 0, 0, 0, 0, 2, 0, 0, 0, 0, 0, 2, 0, 0, 2, 0, 0, 2, 0, 2,\n",
              "       0, 0, 2, 0, 0, 2, 2, 0, 0, 0, 0, 0, 0, 2, 0, 0, 2, 0, 2, 0, 2, 0,\n",
              "       2, 0, 0, 2, 0, 2, 0, 2, 2, 0, 0, 0, 2, 0, 0, 0, 2, 2, 2, 0, 0, 0,\n",
              "       2, 2, 0, 0, 2, 0, 0, 2, 0, 2, 0, 2, 0, 0, 0, 2, 2, 2, 2, 2, 0, 2,\n",
              "       2, 2, 2, 2, 0, 0, 0, 0, 0, 2, 2, 0, 0, 2, 2, 2, 0, 2, 0, 0, 2, 2,\n",
              "       2, 2, 0, 0, 0, 2, 2, 0, 0, 2, 0, 2, 2, 2, 0, 0, 2, 2, 0, 2, 0, 0,\n",
              "       2])"
            ]
          },
          "metadata": {},
          "execution_count": 19
        }
      ]
    },
    {
      "cell_type": "code",
      "source": [
        "y_test"
      ],
      "metadata": {
        "colab": {
          "base_uri": "https://localhost:8080/"
        },
        "id": "c3aWhqsFs99w",
        "outputId": "e61f28e1-cf3a-4e35-e1af-584e9a0c89da"
      },
      "execution_count": null,
      "outputs": [
        {
          "output_type": "execute_result",
          "data": {
            "text/plain": [
              "array([2, 2, 0, 0, 0, 0, 2, 2, 0, 2, 2, 2, 0, 0, 0, 0, 2, 2, 2, 0, 2, 2,\n",
              "       2, 0, 0, 0, 2, 2, 0, 0, 0, 2, 2, 0, 1, 2, 1, 0, 2, 0, 0, 0, 1, 2,\n",
              "       0, 0, 0, 2, 0, 2, 0, 0, 0, 0, 2, 2, 0, 2, 2, 0, 2, 0, 0, 1, 0, 2,\n",
              "       0, 2, 2, 2, 0, 2, 0, 0, 0, 2, 1, 2, 0, 0, 2, 0, 0, 2, 2, 0, 0, 2,\n",
              "       2, 0, 2, 0, 0, 0, 2, 0, 0, 0, 0, 2, 0, 0, 0, 2, 1, 2, 0, 2, 2, 0,\n",
              "       2, 0, 2, 0, 2, 0, 0, 2, 2, 2, 0, 0, 0, 2, 2, 2, 0, 0, 0, 2, 0, 2,\n",
              "       0, 0, 0, 2, 0, 2, 0, 0, 2, 0, 0, 2, 0, 2, 2, 2, 2, 0, 1, 2, 2, 0,\n",
              "       0, 2, 0, 0, 2, 2, 2, 2, 0, 0, 0, 0, 0, 0, 0, 2, 2, 0, 2, 0, 0, 2,\n",
              "       0, 2, 2, 2, 0, 0, 2, 2, 0, 2, 0, 0, 2, 0, 2, 0, 2, 1, 2, 0, 1, 2,\n",
              "       2, 2, 1, 2, 0, 0, 2, 2, 0, 0, 2, 0, 2, 2, 0, 0, 0, 2, 0, 0, 2, 2,\n",
              "       0, 0, 0, 1, 2, 1, 1, 0, 0, 2, 2, 0, 2, 0, 2, 2, 2, 2, 2, 0, 0, 0,\n",
              "       2, 0, 0, 2, 2, 0, 0, 0, 2, 0, 2, 0, 0, 0, 2, 0, 0, 0, 2, 0, 0, 2,\n",
              "       0, 0, 0, 2, 2, 2, 2, 0, 2, 0, 0, 0, 2, 2, 0, 1, 2, 2, 2, 0, 0, 2,\n",
              "       0, 0, 0, 2, 0, 0, 0, 0, 0, 0, 0, 0, 2, 2, 0, 0, 0, 2, 2, 0, 0, 0,\n",
              "       2, 0, 0, 0, 2, 0, 2, 1, 0, 0, 0, 0, 2, 0, 0, 0, 0, 0, 0, 2, 0, 0,\n",
              "       0, 2, 0, 2, 0, 2, 2, 2, 0, 1, 0, 0, 0, 2, 2, 0, 0, 2, 0, 0, 2, 2,\n",
              "       0, 0, 0, 0, 2, 1, 0, 0, 0, 0, 0, 0, 2, 2, 0, 0, 0, 0, 2, 0, 0, 0,\n",
              "       2, 0, 2, 0, 2, 2, 2, 2, 2, 2, 0, 2, 0, 0, 0, 0, 0, 0, 0, 0, 1, 2,\n",
              "       0, 2, 2, 0, 2, 1, 2, 0, 0, 2, 0, 1, 0, 2, 0, 0, 2, 0, 2, 1, 2, 2,\n",
              "       0, 0, 0, 2, 0, 2, 0, 2, 0, 0, 0, 0, 0, 0, 0, 0, 1, 0, 2, 2, 0, 2,\n",
              "       0, 2, 2, 2, 2, 2, 0, 2, 0, 0, 1, 1, 0, 2, 0, 0, 2, 2, 0, 0, 2, 0,\n",
              "       2, 0, 2, 0, 0, 0, 0, 0, 0, 2, 2, 0, 0, 2, 0, 2, 0, 0, 0, 0, 1, 2,\n",
              "       0, 0, 0, 2, 2, 0, 2, 0, 2, 2, 2, 0, 0, 2, 0, 2, 2, 0, 2, 2, 0, 0,\n",
              "       0, 0, 0, 2, 0, 2, 0, 0, 0, 0, 2, 0, 2, 0, 2, 2, 0, 0, 0, 2, 0, 2,\n",
              "       0, 0, 2, 2, 0, 0, 2, 2, 2, 0, 1, 0, 2, 2, 2, 2, 2, 0, 0, 0, 2, 2,\n",
              "       0, 2, 0, 0, 2, 2, 0, 2, 2, 0, 2, 0, 2, 0, 2, 0, 2, 0, 2, 0, 0, 0,\n",
              "       0, 2, 0, 0, 2, 0, 0, 0, 0, 0, 0, 0, 0, 0, 0, 2, 0, 2, 0, 2, 2, 0,\n",
              "       2, 0, 1, 0, 1, 2, 2, 0, 0, 0, 0, 2, 0, 2, 2, 1, 2, 0, 0, 2, 2, 0,\n",
              "       2, 2, 0, 0, 2, 2, 0, 0, 2, 0, 0, 2, 0, 2, 0, 0, 1, 0, 0, 0, 0, 2,\n",
              "       0, 0, 2, 2, 2, 2, 0, 0, 0, 2, 0, 2, 2, 2, 0, 0, 2, 0, 0, 0, 0, 0,\n",
              "       0, 0, 0, 0, 0, 2, 2, 0, 0, 1, 0, 0, 0, 0, 0, 2, 1, 2, 2, 0, 0, 2,\n",
              "       2, 2, 2, 0, 2, 0, 0, 0, 2, 0, 0, 1, 0, 0, 0, 0, 0, 2, 0, 2, 2, 0,\n",
              "       2, 1, 1, 2, 0, 1, 0, 2, 1, 0, 2, 0, 0, 0, 2, 0, 1, 0, 1, 2, 2, 2,\n",
              "       0, 2, 2, 0, 1, 2, 0, 0, 2, 0, 0, 2, 0, 0, 2, 1, 1, 0, 2, 2, 0, 2,\n",
              "       2, 2, 0, 2, 2, 2, 0, 0, 2, 0, 2, 0, 0, 2, 2, 0, 2, 0, 0, 0, 2, 2,\n",
              "       0, 2, 0, 0, 0, 0, 0, 2, 0, 0, 0, 0, 0, 1, 0, 0, 2, 2, 2, 2, 0, 2,\n",
              "       0, 1, 2, 0, 0, 2, 2, 0, 0, 2, 0, 2, 0, 2, 0, 0, 2, 0, 2, 1, 2, 0,\n",
              "       2, 0, 0, 2, 0, 2, 0, 1, 2, 0, 0, 0, 0, 0, 0, 0, 2, 2, 2, 0, 0, 0,\n",
              "       2, 2, 0, 0, 2, 0, 0, 2, 0, 2, 0, 2, 0, 0, 0, 2, 2, 2, 2, 0, 0, 2,\n",
              "       2, 2, 2, 2, 1, 0, 0, 2, 2, 2, 0, 0, 0, 2, 2, 2, 0, 2, 1, 0, 2, 1,\n",
              "       2, 2, 0, 0, 0, 2, 2, 0, 0, 0, 0, 2, 2, 2, 0, 1, 1, 2, 0, 2, 0, 0,\n",
              "       2])"
            ]
          },
          "metadata": {},
          "execution_count": 20
        }
      ]
    },
    {
      "cell_type": "markdown",
      "source": [
        "### Métricas resultantes del test"
      ],
      "metadata": {
        "id": "W2pDFmuXQ2Hi"
      }
    },
    {
      "cell_type": "code",
      "source": [
        "print(classification_report(y_test, y_pred_class, digits=5))"
      ],
      "metadata": {
        "colab": {
          "base_uri": "https://localhost:8080/"
        },
        "id": "AF3O5fkwGG7m",
        "outputId": "7c3c238d-6ff5-450e-dd53-8f35651dcead"
      },
      "execution_count": null,
      "outputs": [
        {
          "output_type": "stream",
          "name": "stdout",
          "text": [
            "              precision    recall  f1-score   support\n",
            "\n",
            "           0    0.81736   0.92813   0.86923       487\n",
            "           1    0.00000   0.00000   0.00000        51\n",
            "           2    0.86550   0.81096   0.83734       365\n",
            "\n",
            "    accuracy                        0.82835       903\n",
            "   macro avg    0.56095   0.57970   0.56886       903\n",
            "weighted avg    0.79065   0.82835   0.80725       903\n",
            "\n"
          ]
        }
      ]
    },
    {
      "cell_type": "code",
      "source": [
        "# Matriz de confusión, ahora con \"más estilo\"\n",
        "print(sns.heatmap(confusion_matrix(y_test, y_pred_class), annot=True, fmt=\"d\"))\n",
        "\n",
        "# Hay problemas con la clase intermedia (neutro)\n",
        "# Se debe a que los datos están desbalanceados, pasa mucho en la vida real\n",
        "# Puede que se deba a que la distribución sea esa (muestreo correcto), o porque\n",
        "# tenemos algún sesgo, etc.\n",
        "\n",
        "# La cuestión es que... así como está, nuestra RNA reconoce únicamente comentarios\n",
        "# POSITIVOS y NEGATIVOS, para los NEUTRALES... hay que usar otra ruta o estrategias"
      ],
      "metadata": {
        "colab": {
          "base_uri": "https://localhost:8080/",
          "height": 448
        },
        "id": "AVvLIWbtGbl6",
        "outputId": "a5444523-b78a-43c6-d82d-5df33ea283ad"
      },
      "execution_count": null,
      "outputs": [
        {
          "output_type": "stream",
          "name": "stdout",
          "text": [
            "Axes(0.125,0.11;0.62x0.77)\n"
          ]
        },
        {
          "output_type": "display_data",
          "data": {
            "text/plain": [
              "<Figure size 640x480 with 2 Axes>"
            ],
            "image/png": "[encoded data removed]"
          },
          "metadata": {}
        }
      ]
    },
    {
      "cell_type": "markdown",
      "source": [
        "## Ejemplo de aplicación de la RNA"
      ],
      "metadata": {
        "id": "3AZqvR90Q4wQ"
      }
    },
    {
      "cell_type": "code",
      "source": [
        "# Pequeña función para pruebas con el modelo\n",
        "# Se realiza el mismo tratamiento original y se predice el sentimiento\n",
        "\n",
        "model.load_weights('weights.h5')\n",
        "def predict_sentimiento(stri):\n",
        "    review = ''.join(char for char in stri if (char.isalnum() or char.isspace()))\n",
        "    review = review.split()\n",
        "    review = [word for word in review if not word in es_stopwords]\n",
        "    review = ' '.join(review)\n",
        "    onehot_repr = [one_hot(review, VOCABULARIO_LIM)]\n",
        "    embed = pad_sequences(onehot_repr, padding='pre', maxlen=PAL_MAX)\n",
        "    predict = model.predict(embed)\n",
        "    return label_encoder.classes_[np.argmax(predict)]"
      ],
      "metadata": {
        "id": "Qa2De08hHCK2"
      },
      "execution_count": null,
      "outputs": []
    },
    {
      "cell_type": "code",
      "source": [
        "# Pruebas predefinidas\n",
        "test_manual = [\"Pésima aplicación\",\n",
        "               \"Excelente aplicación\",\n",
        "               \"Podrían mejorar varios aspectos\",\n",
        "               \"Que se yo, regular\",\n",
        "               \"Hay muchos errores, pero me gusta\",\n",
        "               \"Una porquería, literalmente\",\n",
        "               \"Palabraquemeinventeahoraparaverqueonda\",\n",
        "               ]\n",
        "\n",
        "for comentario in test_manual:\n",
        "    print(\"Comentario: '{}' - Sentimiento: '{}'\".format(comentario, predict_sentimiento(comentario)))\n",
        "\n",
        "# ¿Tienen coherencia los resultados?"
      ],
      "metadata": {
        "colab": {
          "base_uri": "https://localhost:8080/"
        },
        "id": "bfz5jXkCHz8i",
        "outputId": "ec2e7d74-769d-4775-d5bf-6c54852fea59"
      },
      "execution_count": null,
      "outputs": [
        {
          "output_type": "stream",
          "name": "stdout",
          "text": [
            "1/1 [==============================] - 0s 33ms/step\n",
            "Comentario: 'Pésima aplicación' - Sentimiento: 'negativo'\n",
            "1/1 [==============================] - 0s 31ms/step\n",
            "Comentario: 'Excelente aplicación' - Sentimiento: 'positivo'\n",
            "1/1 [==============================] - 0s 32ms/step\n",
            "Comentario: 'Podrían mejorar varios aspectos' - Sentimiento: 'negativo'\n",
            "1/1 [==============================] - 0s 33ms/step\n",
            "Comentario: 'Que se yo, regular' - Sentimiento: 'negativo'\n",
            "1/1 [==============================] - 0s 35ms/step\n",
            "Comentario: 'Hay muchos errores, pero me gusta' - Sentimiento: 'positivo'\n",
            "1/1 [==============================] - 0s 30ms/step\n",
            "Comentario: 'Una porquería, literalmente' - Sentimiento: 'negativo'\n",
            "1/1 [==============================] - 0s 32ms/step\n",
            "Comentario: 'Palabraquemeinventeahoraparaverqueonda' - Sentimiento: 'negativo'\n"
          ]
        }
      ]
    },
    {
      "cell_type": "code",
      "source": [
        "# Espacio para probar comentarios de forma continua\n",
        "# Para finalizar... cancelar la ejecución del bloque\n",
        "while True:\n",
        "    comentario = input(\"Escriba un comentario propio: \")\n",
        "    print(\"Su comentario es: '{}'\".format(predict_sentimiento(comentario)))"
      ],
      "metadata": {
        "id": "rGTvNO8zn_a2",
        "colab": {
          "base_uri": "https://localhost:8080/",
          "height": 601
        },
        "outputId": "9d2b924f-98df-460e-94ac-ae6c552d5ec0"
      },
      "execution_count": null,
      "outputs": [
        {
          "output_type": "stream",
          "name": "stdout",
          "text": [
            "Escriba un comentario propio: Esta aplicación es una completa estafa, no se la instalen\n",
            "1/1 [==============================] - 0s 32ms/step\n",
            "Su comentario es: 'negativo'\n",
            "Escriba un comentario propio: Esta aplicación es una completa estafa, pero lo compensa con las grandes prestaciones que tiene en uno de sus apartados\n",
            "1/1 [==============================] - 0s 35ms/step\n",
            "Su comentario es: 'negativo'\n",
            "Escriba un comentario propio: \"Mi opinión es neutral\"\n",
            "1/1 [==============================] - 0s 49ms/step\n",
            "Su comentario es: 'negativo'\n",
            "Escriba un comentario propio: \"Esta aplicación es una gran estafa, pero me gusta\"\n",
            "1/1 [==============================] - 0s 30ms/step\n",
            "Su comentario es: 'positivo'\n"
          ]
        },
        {
          "output_type": "error",
          "ename": "KeyboardInterrupt",
          "evalue": "ignored",
          "traceback": [
            "\u001b[0;31m---------------------------------------------------------------------------\u001b[0m",
            "\u001b[0;31mKeyboardInterrupt\u001b[0m                         Traceback (most recent call last)",
            "\u001b[0;32m<ipython-input-25-53b1c3d419db>\u001b[0m in \u001b[0;36m<cell line: 3>\u001b[0;34m()\u001b[0m\n\u001b[1;32m      2\u001b[0m \u001b[0;31m# Para finalizar... cancelar la ejecución del bloque\u001b[0m\u001b[0;34m\u001b[0m\u001b[0;34m\u001b[0m\u001b[0m\n\u001b[1;32m      3\u001b[0m \u001b[0;32mwhile\u001b[0m \u001b[0;32mTrue\u001b[0m\u001b[0;34m:\u001b[0m\u001b[0;34m\u001b[0m\u001b[0;34m\u001b[0m\u001b[0m\n\u001b[0;32m----> 4\u001b[0;31m     \u001b[0mcomentario\u001b[0m \u001b[0;34m=\u001b[0m \u001b[0minput\u001b[0m\u001b[0;34m(\u001b[0m\u001b[0;34m\"Escriba un comentario propio: \"\u001b[0m\u001b[0;34m)\u001b[0m\u001b[0;34m\u001b[0m\u001b[0;34m\u001b[0m\u001b[0m\n\u001b[0m\u001b[1;32m      5\u001b[0m     \u001b[0mprint\u001b[0m\u001b[0;34m(\u001b[0m\u001b[0;34m\"Su comentario es: '{}'\"\u001b[0m\u001b[0;34m.\u001b[0m\u001b[0mformat\u001b[0m\u001b[0;34m(\u001b[0m\u001b[0mpredict_sentimiento\u001b[0m\u001b[0;34m(\u001b[0m\u001b[0mcomentario\u001b[0m\u001b[0;34m)\u001b[0m\u001b[0;34m)\u001b[0m\u001b[0;34m)\u001b[0m\u001b[0;34m\u001b[0m\u001b[0;34m\u001b[0m\u001b[0m\n",
            "\u001b[0;32m/usr/local/lib/python3.10/dist-packages/ipykernel/kernelbase.py\u001b[0m in \u001b[0;36mraw_input\u001b[0;34m(self, prompt)\u001b[0m\n\u001b[1;32m    849\u001b[0m                 \u001b[0;34m\"raw_input was called, but this frontend does not support input requests.\"\u001b[0m\u001b[0;34m\u001b[0m\u001b[0;34m\u001b[0m\u001b[0m\n\u001b[1;32m    850\u001b[0m             )\n\u001b[0;32m--> 851\u001b[0;31m         return self._input_request(str(prompt),\n\u001b[0m\u001b[1;32m    852\u001b[0m             \u001b[0mself\u001b[0m\u001b[0;34m.\u001b[0m\u001b[0m_parent_ident\u001b[0m\u001b[0;34m,\u001b[0m\u001b[0;34m\u001b[0m\u001b[0;34m\u001b[0m\u001b[0m\n\u001b[1;32m    853\u001b[0m             \u001b[0mself\u001b[0m\u001b[0;34m.\u001b[0m\u001b[0m_parent_header\u001b[0m\u001b[0;34m,\u001b[0m\u001b[0;34m\u001b[0m\u001b[0;34m\u001b[0m\u001b[0m\n",
            "\u001b[0;32m/usr/local/lib/python3.10/dist-packages/ipykernel/kernelbase.py\u001b[0m in \u001b[0;36m_input_request\u001b[0;34m(self, prompt, ident, parent, password)\u001b[0m\n\u001b[1;32m    893\u001b[0m             \u001b[0;32mexcept\u001b[0m \u001b[0mKeyboardInterrupt\u001b[0m\u001b[0;34m:\u001b[0m\u001b[0;34m\u001b[0m\u001b[0;34m\u001b[0m\u001b[0m\n\u001b[1;32m    894\u001b[0m                 \u001b[0;31m# re-raise KeyboardInterrupt, to truncate traceback\u001b[0m\u001b[0;34m\u001b[0m\u001b[0;34m\u001b[0m\u001b[0m\n\u001b[0;32m--> 895\u001b[0;31m                 \u001b[0;32mraise\u001b[0m \u001b[0mKeyboardInterrupt\u001b[0m\u001b[0;34m(\u001b[0m\u001b[0;34m\"Interrupted by user\"\u001b[0m\u001b[0;34m)\u001b[0m \u001b[0;32mfrom\u001b[0m \u001b[0;32mNone\u001b[0m\u001b[0;34m\u001b[0m\u001b[0;34m\u001b[0m\u001b[0m\n\u001b[0m\u001b[1;32m    896\u001b[0m             \u001b[0;32mexcept\u001b[0m \u001b[0mException\u001b[0m \u001b[0;32mas\u001b[0m \u001b[0me\u001b[0m\u001b[0;34m:\u001b[0m\u001b[0;34m\u001b[0m\u001b[0;34m\u001b[0m\u001b[0m\n\u001b[1;32m    897\u001b[0m                 \u001b[0mself\u001b[0m\u001b[0;34m.\u001b[0m\u001b[0mlog\u001b[0m\u001b[0;34m.\u001b[0m\u001b[0mwarning\u001b[0m\u001b[0;34m(\u001b[0m\u001b[0;34m\"Invalid Message:\"\u001b[0m\u001b[0;34m,\u001b[0m \u001b[0mexc_info\u001b[0m\u001b[0;34m=\u001b[0m\u001b[0;32mTrue\u001b[0m\u001b[0;34m)\u001b[0m\u001b[0;34m\u001b[0m\u001b[0;34m\u001b[0m\u001b[0m\n",
            "\u001b[0;31mKeyboardInterrupt\u001b[0m: Interrupted by user"
          ]
        }
      ]
    }
  ]
}